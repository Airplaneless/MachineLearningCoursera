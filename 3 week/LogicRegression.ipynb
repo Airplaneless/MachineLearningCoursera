{
 "cells": [
  {
   "cell_type": "code",
   "execution_count": 1,
   "metadata": {
    "collapsed": true
   },
   "outputs": [],
   "source": [
    "import pandas as pd\n",
    "df = pd.read_csv(\"/home/airplaneless/source/repos/somestuff/MachineLearningCoursera/3 week/data.csv\", header=None)\n",
    "X1 = df[1]\n",
    "X2 = df[2]\n",
    "Y = df[0]"
   ]
  },
  {
   "cell_type": "code",
   "execution_count": 2,
   "metadata": {
    "collapsed": true
   },
   "outputs": [],
   "source": [
    "from math import exp\n",
    "from tqdm import tqdm\n",
    "\n",
    "k = 0.5\n",
    "err = 10**-5\n",
    "\n",
    "def adjust_w1(Y, X1, X2, w, C):\n",
    "    s = 0\n",
    "    for i in range(len(Y)):\n",
    "        s += Y[i]*X1[i]*(1 - 1/(1 + exp(-Y[i]*(w[0]*X1[i] + w[1]*X2[i]))))\n",
    "    s = s*k/len(Y)\n",
    "    return s - k*C*w[0]\n",
    "\n",
    "def adjust_w2(Y, X1, X2, w, C):\n",
    "    s = 0\n",
    "    for i in range(len(Y)):\n",
    "        s += Y[i]*X2[i]*(1 - 1/(1 + exp(-Y[i]*(w[0]*X1[i] + w[1]*X2[i]))))\n",
    "    s = s*k/len(Y)\n",
    "    return s - k*C*w[1]\n",
    "\n",
    "def grad_desc(Y, X1, X2, C):\n",
    "    w = list([0, 0])\n",
    "    for i in tqdm(xrange(100000)):\n",
    "        adj1 = adjust_w1(Y, X1, X2, w, C)\n",
    "        adj2 = adjust_w2(Y, X1, X2, w, C)\n",
    "        new1 = w[0] + adj1\n",
    "        new2 = w[1] + adj2\n",
    "        if (new1 - w[0])**2 + (new2 - w[1])**2 <= err**2:\n",
    "            w[0] = new1\n",
    "            w[1] = new2\n",
    "            return w\n",
    "        else:\n",
    "            w[0] = new1\n",
    "            w[1] = new2\n",
    "            pass\n",
    "    raise ValueError\n"
   ]
  },
  {
   "cell_type": "code",
   "execution_count": 3,
   "metadata": {},
   "outputs": [
    {
     "name": "stderr",
     "output_type": "stream",
     "text": [
      "  0%|          | 242/100000 [00:10<1:11:36, 23.22it/s]"
     ]
    },
    {
     "name": "stdout",
     "output_type": "stream",
     "text": [
      "[0.28781162047177639, 0.09198330215925439]\n"
     ]
    }
   ],
   "source": [
    "w = grad_desc(Y, X1, X2, 0)\n",
    "w_casual = w\n",
    "print w_casual"
   ]
  },
  {
   "cell_type": "code",
   "execution_count": 4,
   "metadata": {},
   "outputs": [
    {
     "name": "stderr",
     "output_type": "stream",
     "text": [
      "\n",
      "  0%|          | 0/100000 [00:00<?, ?it/s]\u001b[A\n",
      "  0%|          | 2/100000 [00:00<1:32:07, 18.09it/s]\u001b[A\n",
      "  0%|          | 5/100000 [00:00<1:26:42, 19.22it/s]\u001b[A\n",
      "  0%|          | 7/100000 [00:00<1:25:53, 19.40it/s]"
     ]
    },
    {
     "name": "stdout",
     "output_type": "stream",
     "text": [
      "[0.028558754546234223, 0.024780137249735559]\n"
     ]
    },
    {
     "name": "stderr",
     "output_type": "stream",
     "text": [
      "\u001b[A\n",
      "  0%|          | 242/100000 [00:30<3:26:20,  8.06it/s]"
     ]
    }
   ],
   "source": [
    "w = grad_desc(Y, X1, X2, 10)\n",
    "w_L2 = w\n",
    "print w_L2"
   ]
  },
  {
   "cell_type": "code",
   "execution_count": 31,
   "metadata": {
    "collapsed": true
   },
   "outputs": [],
   "source": [
    "def sigmoid(x):\n",
    "    return exp(x)/(1 + exp(x))\n",
    "\n",
    "def predict(w, x):\n",
    "    res = int(0)\n",
    "    for i in zip(w,x):\n",
    "        res+=i[0]*i[1]\n",
    "    if sigmoid(res) < 0.5:\n",
    "        return -1\n",
    "    else:\n",
    "        return 1\n",
    "\n",
    "def probab(w, x):\n",
    "    res = int(0)\n",
    "    for i in zip(w,x):\n",
    "        res+=i[0]*i[1]\n",
    "    return sigmoid(res)"
   ]
  },
  {
   "cell_type": "code",
   "execution_count": 32,
   "metadata": {},
   "outputs": [
    {
     "data": {
      "text/plain": [
       "1"
      ]
     },
     "execution_count": 32,
     "metadata": {},
     "output_type": "execute_result"
    }
   ],
   "source": [
    "predict(w_L2, [2.309374, 1.899836])"
   ]
  },
  {
   "cell_type": "code",
   "execution_count": 33,
   "metadata": {},
   "outputs": [
    {
     "name": "stdout",
     "output_type": "stream",
     "text": [
      "0.926857142857\n",
      "0.936285714286\n"
     ]
    }
   ],
   "source": [
    "from sklearn.metrics import roc_auc_score\n",
    "\n",
    "Y_casual = list()\n",
    "Y_L2 = list()\n",
    "for x in zip(X1, X2):\n",
    "    Y_casual.append(probab(w_casual, x))\n",
    "    Y_L2.append(probab(w_L2, x))\n",
    "\n",
    "score_casual = roc_auc_score(Y, Y_casual)\n",
    "print score_casual\n",
    "score_L2 = roc_auc_score(Y, Y_L2)\n",
    "print score_L2"
   ]
  },
  {
   "cell_type": "code",
   "execution_count": 34,
   "metadata": {
    "collapsed": true
   },
   "outputs": [],
   "source": [
    "with open('1.txt', mode = 'w') as _file:\n",
    "    _file.write(str(round(score_casual, 3)) + ' ' + str(round(score_L2, 3)))"
   ]
  },
  {
   "cell_type": "code",
   "execution_count": 29,
   "metadata": {},
   "outputs": [
    {
     "data": {
      "text/plain": [
       "3.123"
      ]
     },
     "execution_count": 29,
     "metadata": {},
     "output_type": "execute_result"
    }
   ],
   "source": [
    "round(3.123456, 3)"
   ]
  },
  {
   "cell_type": "code",
   "execution_count": null,
   "metadata": {
    "collapsed": true
   },
   "outputs": [],
   "source": []
  }
 ],
 "metadata": {
  "kernelspec": {
   "display_name": "Python 2",
   "language": "python",
   "name": "python2"
  },
  "language_info": {
   "codemirror_mode": {
    "name": "ipython",
    "version": 2
   },
   "file_extension": ".py",
   "mimetype": "text/x-python",
   "name": "python",
   "nbconvert_exporter": "python",
   "pygments_lexer": "ipython2",
   "version": "2.7.13"
  }
 },
 "nbformat": 4,
 "nbformat_minor": 2
}

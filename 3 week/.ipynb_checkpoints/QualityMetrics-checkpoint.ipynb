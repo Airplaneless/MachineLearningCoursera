{
 "cells": [
  {
   "cell_type": "code",
   "execution_count": 1,
   "metadata": {
    "collapsed": true
   },
   "outputs": [],
   "source": [
    "import pandas as pd\n",
    "from sklearn.metrics import accuracy_score, precision_score, recall_score, f1_score\n",
    "from sklearn.metrics import roc_auc_score, precision_recall_curve\n",
    "import matplotlib.pylab as plt"
   ]
  },
  {
   "cell_type": "code",
   "execution_count": 2,
   "metadata": {
    "collapsed": true
   },
   "outputs": [],
   "source": [
    "df1 = pd.read_csv('classification.csv')\n",
    "df2 = pd.read_csv('scores.csv')"
   ]
  },
  {
   "cell_type": "code",
   "execution_count": 3,
   "metadata": {
    "scrolled": true
   },
   "outputs": [],
   "source": [
    "real = df1['true']\n",
    "pred = df1['pred']"
   ]
  },
  {
   "cell_type": "code",
   "execution_count": 61,
   "metadata": {},
   "outputs": [
    {
     "data": {
      "text/plain": [
       "200"
      ]
     },
     "execution_count": 61,
     "metadata": {},
     "output_type": "execute_result"
    }
   ],
   "source": [
    "len(pred)"
   ]
  },
  {
   "cell_type": "code",
   "execution_count": 75,
   "metadata": {},
   "outputs": [
    {
     "data": {
      "text/plain": [
       "True"
      ]
     },
     "execution_count": 75,
     "metadata": {},
     "output_type": "execute_result"
    }
   ],
   "source": [
    "zip(list(real), list(pred))[0][1] == 0"
   ]
  },
  {
   "cell_type": "code",
   "execution_count": 76,
   "metadata": {
    "scrolled": true
   },
   "outputs": [
    {
     "name": "stdout",
     "output_type": "stream",
     "text": [
      "43 34 59 64\n"
     ]
    }
   ],
   "source": [
    "TP = TN = FP = FN = int(0)\n",
    "\n",
    "for x in zip(list(real), list(pred)):\n",
    "    if x[0]==1 and x[1]==1:\n",
    "        TP+=1\n",
    "    elif x[0]==0 and x[1]==0:\n",
    "        TN+=1\n",
    "    elif x[0]==0 and x[1]==1:\n",
    "        FP+=1\n",
    "    elif x[0]==1 and x[1]==0:\n",
    "        FN+=1\n",
    "    else:\n",
    "        print x\n",
    "print TP, FP, FN, TN\n",
    "\n",
    "with open('1.txt', mode='w') as _file:\n",
    "    _file.write(str(TP) + ' ')\n",
    "    _file.write(str(FP) + ' ')\n",
    "    _file.write(str(FN) + ' ')\n",
    "    _file.write(str(TN))"
   ]
  },
  {
   "cell_type": "code",
   "execution_count": 6,
   "metadata": {},
   "outputs": [],
   "source": [
    "with open('2.txt', mode='w') as _file:\n",
    "    _file.write(str(round(accuracy_score(real, pred), 2)) + ' ')\n",
    "    _file.write(str(round(precision_score(real, pred), 2)) + ' ')\n",
    "    _file.write(str(round(recall_score(real, pred), 2)) + ' ')\n",
    "    _file.write(str(round(f1_score(real, pred), 2)))"
   ]
  },
  {
   "cell_type": "code",
   "execution_count": 7,
   "metadata": {},
   "outputs": [
    {
     "data": {
      "text/plain": [
       "0.70868347338935567"
      ]
     },
     "execution_count": 7,
     "metadata": {},
     "output_type": "execute_result"
    }
   ],
   "source": [
    "roc_auc_score(df2['true'], df2['score_svm'])"
   ]
  },
  {
   "cell_type": "code",
   "execution_count": 8,
   "metadata": {},
   "outputs": [
    {
     "name": "stdout",
     "output_type": "stream",
     "text": [
      "score_logreg\n",
      "0.71918767507\n",
      "score_svm\n",
      "0.708683473389\n",
      "score_knn\n",
      "0.635154061625\n",
      "score_tree\n",
      "0.691926770708\n"
     ]
    }
   ],
   "source": [
    "for classif in list(df2.keys())[1:]:\n",
    "    print classif\n",
    "    print roc_auc_score(df2['true'], df2[classif])"
   ]
  },
  {
   "cell_type": "code",
   "execution_count": 9,
   "metadata": {},
   "outputs": [
    {
     "data": {
      "image/png": "[encoded data removed]",
      "text/plain": [
       "<matplotlib.figure.Figure at 0x7fa13c13e050>"
      ]
     },
     "metadata": {},
     "output_type": "display_data"
    }
   ],
   "source": [
    "for classif in list(df2.keys())[1:]:\n",
    "    precision, recall, thresholds = precision_recall_curve(df2['true'], df2[classif])\n",
    "    plt.plot(recall, precision, label=str(classif))\n",
    "    plt.legend()\n",
    "plt.plot([0.7, 0.7], [0,1])\n",
    "plt.show()"
   ]
  },
  {
   "cell_type": "code",
   "execution_count": 10,
   "metadata": {},
   "outputs": [
    {
     "name": "stdout",
     "output_type": "stream",
     "text": [
      "0.651785714286\n",
      "[ 1.          0.93877551  0.91836735  0.82653061  0.80612245  0.74489796\n",
      "  0.66326531  0.60204082  0.56122449  0.42857143  0.28571429  0.18367347\n",
      "  0.        ]\n"
     ]
    }
   ],
   "source": [
    "precision, recall, thresholds = precision_recall_curve(df2['true'], df2['score_tree'])\n",
    "print precision[5]\n",
    "print recall"
   ]
  },
  {
   "cell_type": "code",
   "execution_count": 14,
   "metadata": {},
   "outputs": [],
   "source": [
    "with open('4.txt', mode='w') as _file:\n",
    "    _file.write('score_tree')"
   ]
  },
  {
   "cell_type": "code",
   "execution_count": 15,
   "metadata": {
    "collapsed": true
   },
   "outputs": [],
   "source": [
    "with open('3.txt', mode='w') as _file:\n",
    "    _file.write('score_logreg')"
   ]
  },
  {
   "cell_type": "code",
   "execution_count": null,
   "metadata": {
    "collapsed": true
   },
   "outputs": [],
   "source": []
  }
 ],
 "metadata": {
  "kernelspec": {
   "display_name": "Python 2",
   "language": "python",
   "name": "python2"
  },
  "language_info": {
   "codemirror_mode": {
    "name": "ipython",
    "version": 2
   },
   "file_extension": ".py",
   "mimetype": "text/x-python",
   "name": "python",
   "nbconvert_exporter": "python",
   "pygments_lexer": "ipython2",
   "version": "2.7.13"
  }
 },
 "nbformat": 4,
 "nbformat_minor": 2
}

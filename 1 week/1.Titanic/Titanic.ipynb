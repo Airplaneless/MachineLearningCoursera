{
 "cells": [
  {
   "cell_type": "code",
   "execution_count": 1,
   "metadata": {
    "collapsed": true
   },
   "outputs": [],
   "source": [
    "import pandas\n",
    "import numpy\n",
    "import re"
   ]
  },
  {
   "cell_type": "code",
   "execution_count": 2,
   "metadata": {
    "collapsed": true
   },
   "outputs": [],
   "source": [
    "data = pandas.read_csv('titanic.csv', index_col='PassengerId')\n",
    "list_answers = [i for i in range(6)]"
   ]
  },
  {
   "cell_type": "code",
   "execution_count": 3,
   "metadata": {
    "collapsed": true
   },
   "outputs": [],
   "source": [
    "list_answers[0] = ([data['Sex'].value_counts()['male'],\n",
    "                    data['Sex'].value_counts()['female']])"
   ]
  },
  {
   "cell_type": "code",
   "execution_count": 4,
   "metadata": {
    "collapsed": true
   },
   "outputs": [],
   "source": [
    "surv_per = (data['Survived'].value_counts()[1] / data.index[-1])*100\n",
    "list_answers[1] = float(format(round(surv_per, 2), '0.2f'))"
   ]
  },
  {
   "cell_type": "code",
   "execution_count": 5,
   "metadata": {
    "collapsed": true
   },
   "outputs": [],
   "source": [
    "first_per = (data['Pclass'].value_counts()[1] / data.index[-1])*100\n",
    "list_answers[2] = float(format(round(first_per, 2), '0.2f'))"
   ]
  },
  {
   "cell_type": "code",
   "execution_count": 6,
   "metadata": {
    "collapsed": true
   },
   "outputs": [],
   "source": [
    "ages = [\n",
    "        float(format(round(data['Age'].mean(), 2), '0.2f')),\n",
    "        float(format(round(data['Age'].median(), 2), '0.2f'))\n",
    "        ]\n",
    "list_answers[3] = ages"
   ]
  },
  {
   "cell_type": "code",
   "execution_count": 7,
   "metadata": {
    "collapsed": true
   },
   "outputs": [],
   "source": [
    "Pcorr = data[['SibSp', 'Parch']].corr()['SibSp'][1]\n",
    "list_answers[4] = float(format(round(Pcorr, 2), '0.2f'))"
   ]
  },
  {
   "cell_type": "code",
   "execution_count": 35,
   "metadata": {},
   "outputs": [],
   "source": [
    "Pcorr = data[['SibSp', 'Parch']].corr()['SibSp'][1]\n",
    "list_answers[4] = float(format(round(Pcorr, 2), '0.2f'))\n",
    "\n",
    "FNames = pandas.Series()\n",
    "dataNames = data[['Name', 'Sex']]\n",
    "for i in range(data.index[-1]):\n",
    "    if dataNames.loc[i+1]['Sex'] == 'male':\n",
    "        pass\n",
    "    else:\n",
    "        FNames.set_value(i+1, re.findall(\"[\\w']+\", dataNames.loc[i+1]['Name']))\n",
    "\n",
    "AllFNames = pandas.Series()\n",
    "for i in range(len(FNames)):\n",
    "    for j in range(len(FNames.values[i])):\n",
    "        AllFNames.set_value(i, FNames.values[i][j])\n",
    "\n",
    "list_answers[5] = AllFNames.value_counts().index[0]"
   ]
  },
  {
   "cell_type": "code",
   "execution_count": 37,
   "metadata": {},
   "outputs": [],
   "source": [
    "for i in range(len(list_answers)):\n",
    "    with open('ans{0}.txt'.format(i), 'w') as file:\n",
    "        file.write(str(list_answers[i]))"
   ]
  },
  {
   "cell_type": "code",
   "execution_count": null,
   "metadata": {
    "collapsed": true
   },
   "outputs": [],
   "source": []
  }
 ],
 "metadata": {
  "kernelspec": {
   "display_name": "Python 2",
   "language": "python",
   "name": "python2"
  },
  "language_info": {
   "codemirror_mode": {
    "name": "ipython",
    "version": 2
   },
   "file_extension": ".py",
   "mimetype": "text/x-python",
   "name": "python",
   "nbconvert_exporter": "python",
   "pygments_lexer": "ipython2",
   "version": "2.7.12"
  }
 },
 "nbformat": 4,
 "nbformat_minor": 1
}
